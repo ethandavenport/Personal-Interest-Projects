{
 "cells": [
  {
   "cell_type": "markdown",
   "id": "6ef4a6a9",
   "metadata": {},
   "source": [
    "## Find the optimal starting word for Wordle."
   ]
  },
  {
   "cell_type": "code",
   "execution_count": 1,
   "id": "344b4119",
   "metadata": {},
   "outputs": [
    {
     "data": {
      "text/plain": [
       "True"
      ]
     },
     "execution_count": 1,
     "metadata": {},
     "output_type": "execute_result"
    }
   ],
   "source": [
    "\n",
    "f = open(r\"C:\\Users\\ethan\\OneDrive\\BAX 305\\valid_solutions.csv\", 'r', encoding = 'utf-8')\n",
    "lines = f.readlines()\n",
    "\n",
    "lines = [line.strip('\\n') for line in lines]\n",
    "\n",
    "letters = []\n",
    "for line in lines:\n",
    "    if line[2] not in letters:\n",
    "        letters.append(line[2])\n",
    "\n",
    "len(letters) == 26"
   ]
  },
  {
   "cell_type": "code",
   "execution_count": 2,
   "id": "1a7713fd",
   "metadata": {},
   "outputs": [],
   "source": [
    "D = {}\n",
    "frequencies = []\n",
    "\n",
    "for index in range(0,5):\n",
    "    \n",
    "    for letter in letters:\n",
    "        letter_words = []\n",
    "        for line in lines:\n",
    "            if len(line) == 5:\n",
    "                if line[index] == letter:\n",
    "                    letter_words.append(line)\n",
    "    \n",
    "        D[letter] = letter_words\n",
    "\n",
    "    total_count = len([line for line in lines if len(line) == 5])\n",
    "    D_pct = {}\n",
    "\n",
    "    for letter,words in D.items():\n",
    "        letter_count = len(words)\n",
    "        letter_pct = letter_count / total_count * 100\n",
    "        D_pct[letter] = letter_pct\n",
    "\n",
    "    frequencies.append(dict(sorted(D_pct.items(), key = lambda d: d[1], reverse = True)))"
   ]
  },
  {
   "cell_type": "code",
   "execution_count": 3,
   "id": "d531d3a6",
   "metadata": {},
   "outputs": [
    {
     "data": {
      "text/plain": [
       "[('slate', 62.1),\n",
       " ('sauce', 61.0),\n",
       " ('slice', 60.9),\n",
       " ('shale', 60.6),\n",
       " ('saute', 60.4)]"
      ]
     },
     "execution_count": 3,
     "metadata": {},
     "output_type": "execute_result"
    }
   ],
   "source": [
    "green_words = {}\n",
    "\n",
    "for line in lines:\n",
    "    total_freq = 0\n",
    "    \n",
    "    for index in range(len(line)): \n",
    "        char = line[index]\n",
    "        freq = frequencies[index][char]\n",
    "        total_freq += freq\n",
    "    \n",
    "    green_words[line] = round(total_freq,1)\n",
    "        \n",
    "sorted(green_words.items(), key = lambda d: d[1], reverse = True)[0:5]"
   ]
  },
  {
   "cell_type": "code",
   "execution_count": 4,
   "id": "688cbb19",
   "metadata": {},
   "outputs": [
    {
     "data": {
      "text/plain": [
       "[('e', 45.6), ('a', 39.2), ('r', 36.2), ('o', 29.1), ('t', 28.8)]"
      ]
     },
     "execution_count": 4,
     "metadata": {},
     "output_type": "execute_result"
    }
   ],
   "source": [
    "freq_one = {}\n",
    "freq_two = {}\n",
    "freq_three = {}\n",
    "\n",
    "for letter in letters:\n",
    "    one_count = 0\n",
    "    two_count = 0\n",
    "    three_count = 0\n",
    "    \n",
    "    for line in lines:\n",
    "        appearances = 0\n",
    "        \n",
    "        if letter in line:\n",
    "            appearances = line.count(letter)\n",
    "        if appearances == 3:\n",
    "            one_count += 1\n",
    "            two_count += 1\n",
    "            three_count += 1\n",
    "        elif appearances == 2:\n",
    "            one_count += 1\n",
    "            two_count += 1\n",
    "        elif appearances == 1:\n",
    "            one_count += 1\n",
    "            \n",
    "        freq1 = one_count/len(lines)\n",
    "        freq2 = two_count/len(lines)\n",
    "        freq3 = three_count/len(lines)\n",
    "        \n",
    "    freq_one[letter] = round(freq1*100,1)\n",
    "    freq_two[letter] = round(freq2*100,1)\n",
    "    freq_three[letter] = round(freq3*100,1)\n",
    "\n",
    "sorted(freq_one.items(), key = lambda d: d[1], reverse = True)[:5]\n",
    "#sorted(freq_two.items(), key = lambda d: d[1], reverse = True)\n",
    "#sorted(freq_three.items(), key = lambda d: d[1], reverse = True)"
   ]
  },
  {
   "cell_type": "code",
   "execution_count": 5,
   "id": "1006952e",
   "metadata": {},
   "outputs": [
    {
     "data": {
      "text/plain": [
       "[('alert', 35.6),\n",
       " ('alter', 35.6),\n",
       " ('later', 35.6),\n",
       " ('irate', 35.5),\n",
       " ('arose', 35.4)]"
      ]
     },
     "execution_count": 5,
     "metadata": {},
     "output_type": "execute_result"
    }
   ],
   "source": [
    "yellow_words = {}\n",
    "\n",
    "for line in lines:\n",
    "    total_freq = 0\n",
    "    \n",
    "    for letter in letters:\n",
    "        if line.count(letter) == 3:\n",
    "            total_freq = total_freq + freq_three[letter] + freq_two[letter] + freq_one[letter]\n",
    "        elif line.count(letter) == 2:\n",
    "            total_freq = total_freq + freq_two[letter] + freq_one[letter]\n",
    "        elif line.count(letter) == 1:\n",
    "            total_freq = total_freq + freq_one[letter]\n",
    "        \n",
    "    avg_freq = total_freq/5\n",
    "    \n",
    "    yellow_words[line] = round(avg_freq,1)\n",
    "    \n",
    "sorted(yellow_words.items(), key = lambda d: d[1], reverse = True)[:5]"
   ]
  },
  {
   "cell_type": "code",
   "execution_count": 6,
   "id": "310244b2",
   "metadata": {},
   "outputs": [
    {
     "data": {
      "text/plain": [
       "[('slate', 95.80000000000001),\n",
       " ('share', 93.0),\n",
       " ('stare', 92.6),\n",
       " ('saute', 92.4),\n",
       " ('crane', 92.3),\n",
       " ('saner', 92.1),\n",
       " ('snare', 92.0),\n",
       " ('shale', 91.8),\n",
       " ('crate', 91.5),\n",
       " ('stale', 91.4)]"
      ]
     },
     "execution_count": 6,
     "metadata": {},
     "output_type": "execute_result"
    }
   ],
   "source": [
    "word_scores = dict(green_words)\n",
    "\n",
    "for word,score in dict(yellow_words).items():\n",
    "    word_scores[word] += score\n",
    "\n",
    "sorted(word_scores.items(), key = lambda d: d[1], reverse = True)[:10]"
   ]
  },
  {
   "cell_type": "code",
   "execution_count": 7,
   "id": "82163c2e",
   "metadata": {},
   "outputs": [
    {
     "name": "stdout",
     "output_type": "stream",
     "text": [
      "563\n"
     ]
    }
   ],
   "source": [
    "for index in range(len(sorted(word_scores.items(), key = lambda d: d[1], reverse = True))):\n",
    "    if sorted(word_scores.items(), key = lambda d: d[1], reverse = True)[index][0] == 'stern':\n",
    "        print(index)"
   ]
  }
 ],
 "metadata": {
  "kernelspec": {
   "display_name": "Python 3 (ipykernel)",
   "language": "python",
   "name": "python3"
  },
  "language_info": {
   "codemirror_mode": {
    "name": "ipython",
    "version": 3
   },
   "file_extension": ".py",
   "mimetype": "text/x-python",
   "name": "python",
   "nbconvert_exporter": "python",
   "pygments_lexer": "ipython3",
   "version": "3.9.13"
  }
 },
 "nbformat": 4,
 "nbformat_minor": 5
}
